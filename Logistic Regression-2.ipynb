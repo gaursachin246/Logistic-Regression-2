{
 "cells": [
  {
   "cell_type": "code",
   "execution_count": 1,
   "id": "a9f63b55-b9b4-4bb8-8f94-9054ace3eeef",
   "metadata": {},
   "outputs": [],
   "source": [
    "### Q1. What is the purpose of grid search cv in machine learning, and how does it work?\n",
    "#1. Definir el espacio de búsqueda: Se especifican los hiperparámetros y sus valores posibles.\n",
    "\n",
    "#2. Dividir los datos: Los datos se dividen en conjuntos de entrenamiento y prueba.\n",
    "\n",
    "#3. Ejecutar la búsqueda: Para cada combinación de hiperparámetros, se entrena el modelo en el conjunto de entrenamiento y se evalúa en el conjunto de prueba.\n",
    "\n",
    "#4. Evaluar el modelo: Se calcula la métrica de evaluación (p. ej., precisión, F1) para cada combinación de hiperparámetros.\n",
    "\n",
    "#5. Seleccionar la mejor combinación: Se selecciona la combinación de hiperparámetros con la mejor métrica de evaluación.\n",
    "\n",
    "#GridSearchCV es una herramienta útil para encontrar la mejor combinación de hiperparámetros, lo que puede mejorar significativamente el rendimiento del modelo. Sin embargo, puede ser computacionalmente costoso, especialmente con grandes conjuntos de datos o modelos complejos.\n"
   ]
  },
  {
   "cell_type": "code",
   "execution_count": 2,
   "id": "dda01f3d-6931-4fb7-927b-da1eaed1cb49",
   "metadata": {},
   "outputs": [],
   "source": [
    "#Q2. Describe the difference between grid search cv and randomize search cv, and when might you choose one over the other?\n",
    "\n",
    "\n",
    "#GridSearchCV\n",
    "\n",
    "#- Exhaustively searches through a predefined grid of hyperparameters\n",
    "#- Evaluates every possible combination of hyperparameters\n",
    "#- Guarantees to find the optimal combination, but can be computationally expensive\n",
    "\n",
    "#RandomizedSearchCV\n",
    "\n",
    "#- Randomly samples a specified number of hyperparameter combinations from a distribution\n",
    "#- Evaluates a subset of possible combinations, rather than the entire grid\n",
    "#- Faster and more efficient than GridSearchCV, but may not find the absolute optimal combination\n",
    "\n",
    "#Choose GridSearchCV when:\n",
    "\n",
    "#- You have a small to moderate number of hyperparameters\n",
    "#- You want to ensure finding the optimal combination\n",
    "#- Computational resources are not a concern\n",
    "\n",
    "#Choose RandomizedSearchCV when:\n",
    "\n",
    "#- You have a large number of hyperparameters\n",
    "#- You want to speed up the search process\n",
    "#- You're willing to trade off some optimality for efficiency\n"
   ]
  },
  {
   "cell_type": "code",
   "execution_count": 3,
   "id": "8a6a01e4-78e7-4e7c-b104-a2f60eeb676f",
   "metadata": {},
   "outputs": [
    {
     "name": "stdout",
     "output_type": "stream",
     "text": [
      "Model Accuracy with Data Leakage: 0.0\n"
     ]
    }
   ],
   "source": [
    "### Q3. What is data leakage, and why is it a problem in machine learning? Provide an example.\n",
    "\n",
    "import pandas as pd\n",
    "from sklearn.model_selection import train_test_split\n",
    "from sklearn.linear_model import LogisticRegression\n",
    "from sklearn.metrics import accuracy_score\n",
    "\n",
    "# Example dataset with target leakage\n",
    "data = {\n",
    "    'income': [50000, 60000, 70000, 80000, 90000],\n",
    "    'loan_amount': [20000, 25000, 30000, 35000, 40000],\n",
    "    'loan_repayment_status': [1, 1, 0, 0, 1],  # Leaked feature\n",
    "    'default': [0, 0, 1, 1, 0]\n",
    "}\n",
    "\n",
    "# Convert to DataFrame\n",
    "df = pd.DataFrame(data)\n",
    "\n",
    "# Split the data into features and target\n",
    "X = df[['income', 'loan_amount', 'loan_repayment_status']]\n",
    "y = df['default']\n",
    "\n",
    "# Split the data into training and test sets\n",
    "X_train, X_test, y_train, y_test = train_test_split(X, y, test_size=0.3, random_state=42)\n",
    "\n",
    "# Train a logistic regression model\n",
    "model = LogisticRegression()\n",
    "model.fit(X_train, y_train)\n",
    "\n",
    "# Predict on the test set\n",
    "y_pred = model.predict(X_test)\n",
    "\n",
    "# Evaluate the model\n",
    "accuracy = accuracy_score(y_test, y_pred)\n",
    "print(\"Model Accuracy with Data Leakage:\", accuracy)"
   ]
  },
  {
   "cell_type": "code",
   "execution_count": 4,
   "id": "e590a9a1-75aa-4ae8-8996-42ef8da457b5",
   "metadata": {},
   "outputs": [],
   "source": [
    "## Q4. How can you prevent data leakage when building a machine learning model?\n",
    "\n",
    "#1. Proper Data Splitting:\n",
    "    #- Split data into training, validation, and testing sets (e.g., 80% for training, 10% for validation, and 10% for testing).\n",
    "    #- Ensure the splits are random and representative of the population.\n",
    "\n",
    "#2. Avoid Using Future Information:\n",
    "#    - Only use data available at the time of prediction.\n",
    " #   - Exclude features that won't be available in real-world scenarios.\n",
    "\n",
    "#3. Data Preprocessing:\n",
    "#    - Perform data preprocessing (e.g., normalization, feature scaling) separately for each split.\n",
    " #   - Avoid using the entire dataset for preprocessing, as this can leak information.\n",
    "\n",
    "#4. Feature Engineering:\n",
    "#    - Create features using only the training data.\n",
    "#    - Avoid using features that are derived from the target variable.\n",
    "\n",
    "#5. Cross-Validation:\n",
    "#    - Use techniques like k-fold cross-validation to evaluate model performance.\n",
    " #   - Ensure the validation set is not used for training.\n",
    "\n",
    "#6. Walk-Forward Optimization:\n",
    "#    - Use this technique for time series data to avoid lookahead bias.\n",
    "\n",
    "#7. Monitor and Test:\n",
    "#    - Continuously monitor model performance on unseen data.\n",
    " #   - Test the model on new data to detect potential data leakage.\n",
    "\n",
    "#8. Document and Review:\n",
    "#    - Document data processing and feature engineering steps.\n",
    "#    - Review the process to ensure no data leakage has occurred.\n",
    "\n",
    "#By following these guidelines, you can minimize the risk of data leakage and develop robust, generalizable machine learning models."
   ]
  },
  {
   "cell_type": "code",
   "execution_count": 5,
   "id": "048ecb5c-bf6e-43e9-892b-dfd9057825c7",
   "metadata": {},
   "outputs": [
    {
     "ename": "NameError",
     "evalue": "name 'plt' is not defined",
     "output_type": "error",
     "traceback": [
      "\u001b[0;31m---------------------------------------------------------------------------\u001b[0m",
      "\u001b[0;31mNameError\u001b[0m                                 Traceback (most recent call last)",
      "Cell \u001b[0;32mIn[5], line 32\u001b[0m\n\u001b[1;32m     30\u001b[0m disp\u001b[38;5;241m.\u001b[39max_\u001b[38;5;241m.\u001b[39mset_xlabel(\u001b[38;5;124m\"\u001b[39m\u001b[38;5;124mPredicted Label\u001b[39m\u001b[38;5;124m\"\u001b[39m)\n\u001b[1;32m     31\u001b[0m disp\u001b[38;5;241m.\u001b[39max_\u001b[38;5;241m.\u001b[39mset_ylabel(\u001b[38;5;124m\"\u001b[39m\u001b[38;5;124mTrue Label\u001b[39m\u001b[38;5;124m\"\u001b[39m)\n\u001b[0;32m---> 32\u001b[0m \u001b[43mplt\u001b[49m\u001b[38;5;241m.\u001b[39mshow()\n",
      "\u001b[0;31mNameError\u001b[0m: name 'plt' is not defined"
     ]
    },
    {
     "data": {
      "image/png": "[encoded data removed]",
      "text/plain": [
       "<Figure size 640x480 with 2 Axes>"
      ]
     },
     "metadata": {},
     "output_type": "display_data"
    }
   ],
   "source": [
    "## Q7. How can you interpret a confusion matrix to determine which types of errors your model is making?\n",
    "\n",
    "\n",
    "import numpy as np\n",
    "from sklearn.datasets import make_classification\n",
    "from sklearn.model_selection import train_test_split\n",
    "from sklearn.linear_model import LogisticRegression\n",
    "from sklearn.metrics import confusion_matrix, ConfusionMatrixDisplay\n",
    "\n",
    "# Generate a synthetic binary classification dataset\n",
    "X, y = make_classification(n_samples=1000, n_features=20, n_classes=2, random_state=42)\n",
    "\n",
    "# Split the dataset into training and test sets\n",
    "X_train, X_test, y_train, y_test = train_test_split(X, y, test_size=0.3, random_state=42)\n",
    "\n",
    "# Train a logistic regression model\n",
    "model = LogisticRegression(max_iter=1000)\n",
    "model.fit(X_train, y_train)\n",
    "\n",
    "# Predict on the test set\n",
    "y_pred = model.predict(X_test)\n",
    "\n",
    "# Generate the confusion matrix\n",
    "cm = confusion_matrix(y_test, y_pred)\n",
    "\n",
    "# Display the confusion matrix\n",
    "disp = ConfusionMatrixDisplay(confusion_matrix=cm, display_labels=[\"Negative\", \"Positive\"])\n",
    "disp.plot(cmap='Blues')\n",
    "disp.ax_.set_title(\"Confusion Matrix\")\n",
    "disp.ax_.set_xlabel(\"Predicted Label\")\n",
    "disp.ax_.set_ylabel(\"True Label\")\n",
    "plt.show()\n"
   ]
  },
  {
   "cell_type": "code",
   "execution_count": null,
   "id": "d9beb78e-9572-40c3-a39f-cf715c64c86e",
   "metadata": {},
   "outputs": [],
   "source": []
  }
 ],
 "metadata": {
  "kernelspec": {
   "display_name": "Python 3 (ipykernel)",
   "language": "python",
   "name": "python3"
  },
  "language_info": {
   "codemirror_mode": {
    "name": "ipython",
    "version": 3
   },
   "file_extension": ".py",
   "mimetype": "text/x-python",
   "name": "python",
   "nbconvert_exporter": "python",
   "pygments_lexer": "ipython3",
   "version": "3.10.8"
  }
 },
 "nbformat": 4,
 "nbformat_minor": 5
}
